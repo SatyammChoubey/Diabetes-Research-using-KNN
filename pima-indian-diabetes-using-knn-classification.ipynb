{
 "cells": [
  {
   "cell_type": "code",
   "execution_count": 1,
   "id": "a50ad220",
   "metadata": {
    "_cell_guid": "b1076dfc-b9ad-4769-8c92-a6c4dae69d19",
    "_uuid": "8f2839f25d086af736a60e9eeb907d3b93b6e0e5",
    "execution": {
     "iopub.execute_input": "2022-09-20T05:41:31.268341Z",
     "iopub.status.busy": "2022-09-20T05:41:31.267549Z",
     "iopub.status.idle": "2022-09-20T05:41:31.277482Z",
     "shell.execute_reply": "2022-09-20T05:41:31.276576Z"
    },
    "papermill": {
     "duration": 0.019774,
     "end_time": "2022-09-20T05:41:31.279976",
     "exception": false,
     "start_time": "2022-09-20T05:41:31.260202",
     "status": "completed"
    },
    "tags": []
   },
   "outputs": [],
   "source": [
    "import numpy as np\n",
    "import pandas as pd\n",
    "import matplotlib.pyplot as plt"
   ]
  },
  {
   "cell_type": "code",
   "execution_count": 2,
   "id": "517559b7",
   "metadata": {
    "execution": {
     "iopub.execute_input": "2022-09-20T05:41:31.291030Z",
     "iopub.status.busy": "2022-09-20T05:41:31.290308Z",
     "iopub.status.idle": "2022-09-20T05:41:31.336522Z",
     "shell.execute_reply": "2022-09-20T05:41:31.335411Z"
    },
    "papermill": {
     "duration": 0.054198,
     "end_time": "2022-09-20T05:41:31.338824",
     "exception": false,
     "start_time": "2022-09-20T05:41:31.284626",
     "status": "completed"
    },
    "tags": []
   },
   "outputs": [
    {
     "data": {
      "text/html": [
       "<div>\n",
       "<style scoped>\n",
       "    .dataframe tbody tr th:only-of-type {\n",
       "        vertical-align: middle;\n",
       "    }\n",
       "\n",
       "    .dataframe tbody tr th {\n",
       "        vertical-align: top;\n",
       "    }\n",
       "\n",
       "    .dataframe thead th {\n",
       "        text-align: right;\n",
       "    }\n",
       "</style>\n",
       "<table border=\"1\" class=\"dataframe\">\n",
       "  <thead>\n",
       "    <tr style=\"text-align: right;\">\n",
       "      <th></th>\n",
       "      <th>Pregnancies</th>\n",
       "      <th>Glucose</th>\n",
       "      <th>BloodPressure</th>\n",
       "      <th>SkinThickness</th>\n",
       "      <th>Insulin</th>\n",
       "      <th>BMI</th>\n",
       "      <th>DiabetesPedigreeFunction</th>\n",
       "      <th>Age</th>\n",
       "      <th>Outcome</th>\n",
       "    </tr>\n",
       "  </thead>\n",
       "  <tbody>\n",
       "    <tr>\n",
       "      <th>0</th>\n",
       "      <td>6</td>\n",
       "      <td>148</td>\n",
       "      <td>72</td>\n",
       "      <td>35</td>\n",
       "      <td>0</td>\n",
       "      <td>33.6</td>\n",
       "      <td>0.627</td>\n",
       "      <td>50</td>\n",
       "      <td>1</td>\n",
       "    </tr>\n",
       "    <tr>\n",
       "      <th>1</th>\n",
       "      <td>1</td>\n",
       "      <td>85</td>\n",
       "      <td>66</td>\n",
       "      <td>29</td>\n",
       "      <td>0</td>\n",
       "      <td>26.6</td>\n",
       "      <td>0.351</td>\n",
       "      <td>31</td>\n",
       "      <td>0</td>\n",
       "    </tr>\n",
       "    <tr>\n",
       "      <th>2</th>\n",
       "      <td>8</td>\n",
       "      <td>183</td>\n",
       "      <td>64</td>\n",
       "      <td>0</td>\n",
       "      <td>0</td>\n",
       "      <td>23.3</td>\n",
       "      <td>0.672</td>\n",
       "      <td>32</td>\n",
       "      <td>1</td>\n",
       "    </tr>\n",
       "    <tr>\n",
       "      <th>3</th>\n",
       "      <td>1</td>\n",
       "      <td>89</td>\n",
       "      <td>66</td>\n",
       "      <td>23</td>\n",
       "      <td>94</td>\n",
       "      <td>28.1</td>\n",
       "      <td>0.167</td>\n",
       "      <td>21</td>\n",
       "      <td>0</td>\n",
       "    </tr>\n",
       "    <tr>\n",
       "      <th>4</th>\n",
       "      <td>0</td>\n",
       "      <td>137</td>\n",
       "      <td>40</td>\n",
       "      <td>35</td>\n",
       "      <td>168</td>\n",
       "      <td>43.1</td>\n",
       "      <td>2.288</td>\n",
       "      <td>33</td>\n",
       "      <td>1</td>\n",
       "    </tr>\n",
       "  </tbody>\n",
       "</table>\n",
       "</div>"
      ],
      "text/plain": [
       "   Pregnancies  Glucose  BloodPressure  SkinThickness  Insulin   BMI  \\\n",
       "0            6      148             72             35        0  33.6   \n",
       "1            1       85             66             29        0  26.6   \n",
       "2            8      183             64              0        0  23.3   \n",
       "3            1       89             66             23       94  28.1   \n",
       "4            0      137             40             35      168  43.1   \n",
       "\n",
       "   DiabetesPedigreeFunction  Age  Outcome  \n",
       "0                     0.627   50        1  \n",
       "1                     0.351   31        0  \n",
       "2                     0.672   32        1  \n",
       "3                     0.167   21        0  \n",
       "4                     2.288   33        1  "
      ]
     },
     "execution_count": 2,
     "metadata": {},
     "output_type": "execute_result"
    }
   ],
   "source": [
    "df=pd.read_csv('../input/pima-indians-diabetes-database/diabetes.csv')\n",
    "df.head()"
   ]
  },
  {
   "cell_type": "code",
   "execution_count": 3,
   "id": "7d4614f0",
   "metadata": {
    "execution": {
     "iopub.execute_input": "2022-09-20T05:41:31.350083Z",
     "iopub.status.busy": "2022-09-20T05:41:31.349658Z",
     "iopub.status.idle": "2022-09-20T05:41:31.358151Z",
     "shell.execute_reply": "2022-09-20T05:41:31.356909Z"
    },
    "papermill": {
     "duration": 0.016565,
     "end_time": "2022-09-20T05:41:31.360352",
     "exception": false,
     "start_time": "2022-09-20T05:41:31.343787",
     "status": "completed"
    },
    "tags": []
   },
   "outputs": [
    {
     "data": {
      "text/plain": [
       "False"
      ]
     },
     "execution_count": 3,
     "metadata": {},
     "output_type": "execute_result"
    }
   ],
   "source": [
    "df.isnull().values.any()"
   ]
  },
  {
   "cell_type": "code",
   "execution_count": 4,
   "id": "3c1506ed",
   "metadata": {
    "execution": {
     "iopub.execute_input": "2022-09-20T05:41:31.371842Z",
     "iopub.status.busy": "2022-09-20T05:41:31.371254Z",
     "iopub.status.idle": "2022-09-20T05:41:31.396772Z",
     "shell.execute_reply": "2022-09-20T05:41:31.394990Z"
    },
    "papermill": {
     "duration": 0.034659,
     "end_time": "2022-09-20T05:41:31.399722",
     "exception": false,
     "start_time": "2022-09-20T05:41:31.365063",
     "status": "completed"
    },
    "tags": []
   },
   "outputs": [
    {
     "name": "stdout",
     "output_type": "stream",
     "text": [
      "<class 'pandas.core.frame.DataFrame'>\n",
      "RangeIndex: 768 entries, 0 to 767\n",
      "Data columns (total 9 columns):\n",
      " #   Column                    Non-Null Count  Dtype  \n",
      "---  ------                    --------------  -----  \n",
      " 0   Pregnancies               768 non-null    int64  \n",
      " 1   Glucose                   768 non-null    int64  \n",
      " 2   BloodPressure             768 non-null    int64  \n",
      " 3   SkinThickness             768 non-null    int64  \n",
      " 4   Insulin                   768 non-null    int64  \n",
      " 5   BMI                       768 non-null    float64\n",
      " 6   DiabetesPedigreeFunction  768 non-null    float64\n",
      " 7   Age                       768 non-null    int64  \n",
      " 8   Outcome                   768 non-null    int64  \n",
      "dtypes: float64(2), int64(7)\n",
      "memory usage: 54.1 KB\n"
     ]
    }
   ],
   "source": [
    "df.info()"
   ]
  },
  {
   "cell_type": "code",
   "execution_count": 5,
   "id": "06b11e93",
   "metadata": {
    "execution": {
     "iopub.execute_input": "2022-09-20T05:41:31.411257Z",
     "iopub.status.busy": "2022-09-20T05:41:31.410843Z",
     "iopub.status.idle": "2022-09-20T05:41:31.418713Z",
     "shell.execute_reply": "2022-09-20T05:41:31.417490Z"
    },
    "papermill": {
     "duration": 0.016553,
     "end_time": "2022-09-20T05:41:31.421318",
     "exception": false,
     "start_time": "2022-09-20T05:41:31.404765",
     "status": "completed"
    },
    "tags": []
   },
   "outputs": [],
   "source": [
    "x=df.iloc[:,:-1].values\n",
    "y=df.iloc[:,-1].values"
   ]
  },
  {
   "cell_type": "code",
   "execution_count": 6,
   "id": "a7f66bc4",
   "metadata": {
    "execution": {
     "iopub.execute_input": "2022-09-20T05:41:31.432883Z",
     "iopub.status.busy": "2022-09-20T05:41:31.432463Z",
     "iopub.status.idle": "2022-09-20T05:41:31.438943Z",
     "shell.execute_reply": "2022-09-20T05:41:31.437695Z"
    },
    "papermill": {
     "duration": 0.015133,
     "end_time": "2022-09-20T05:41:31.441490",
     "exception": false,
     "start_time": "2022-09-20T05:41:31.426357",
     "status": "completed"
    },
    "tags": []
   },
   "outputs": [
    {
     "name": "stdout",
     "output_type": "stream",
     "text": [
      "[[  6.    148.     72.    ...  33.6     0.627  50.   ]\n",
      " [  1.     85.     66.    ...  26.6     0.351  31.   ]\n",
      " [  8.    183.     64.    ...  23.3     0.672  32.   ]\n",
      " ...\n",
      " [  5.    121.     72.    ...  26.2     0.245  30.   ]\n",
      " [  1.    126.     60.    ...  30.1     0.349  47.   ]\n",
      " [  1.     93.     70.    ...  30.4     0.315  23.   ]]\n"
     ]
    }
   ],
   "source": [
    "print(x)"
   ]
  },
  {
   "cell_type": "code",
   "execution_count": 7,
   "id": "c9e3e591",
   "metadata": {
    "execution": {
     "iopub.execute_input": "2022-09-20T05:41:31.453018Z",
     "iopub.status.busy": "2022-09-20T05:41:31.452643Z",
     "iopub.status.idle": "2022-09-20T05:41:31.460317Z",
     "shell.execute_reply": "2022-09-20T05:41:31.459099Z"
    },
    "papermill": {
     "duration": 0.016816,
     "end_time": "2022-09-20T05:41:31.463355",
     "exception": false,
     "start_time": "2022-09-20T05:41:31.446539",
     "status": "completed"
    },
    "tags": []
   },
   "outputs": [
    {
     "name": "stdout",
     "output_type": "stream",
     "text": [
      "[1 0 1 0 1 0 1 0 1 1 0 1 0 1 1 1 1 1 0 1 0 0 1 1 1 1 1 0 0 0 0 1 0 0 0 0 0\n",
      " 1 1 1 0 0 0 1 0 1 0 0 1 0 0 0 0 1 0 0 1 0 0 0 0 1 0 0 1 0 1 0 0 0 1 0 1 0\n",
      " 0 0 0 0 1 0 0 0 0 0 1 0 0 0 1 0 0 0 0 1 0 0 0 0 0 1 1 0 0 0 0 0 0 0 0 1 1\n",
      " 1 0 0 1 1 1 0 0 0 1 0 0 0 1 1 0 0 1 1 1 1 1 0 0 0 0 0 0 0 0 0 0 1 0 0 0 0\n",
      " 0 0 0 0 1 0 1 1 0 0 0 1 0 0 0 0 1 1 0 0 0 0 1 1 0 0 0 1 0 1 0 1 0 0 0 0 0\n",
      " 1 1 1 1 1 0 0 1 1 0 1 0 1 1 1 0 0 0 0 0 0 1 1 0 1 0 0 0 1 1 1 1 0 1 1 1 1\n",
      " 0 0 0 0 0 1 0 0 1 1 0 0 0 1 1 1 1 0 0 0 1 1 0 1 0 0 0 0 0 0 0 0 1 1 0 0 0\n",
      " 1 0 1 0 0 1 0 1 0 0 1 1 0 0 0 0 0 1 0 0 0 1 0 0 1 1 0 0 1 0 0 0 1 1 1 0 0\n",
      " 1 0 1 0 1 1 0 1 0 0 1 0 1 1 0 0 1 0 1 0 0 1 0 1 0 1 1 1 0 0 1 0 1 0 0 0 1\n",
      " 0 0 0 0 1 1 1 0 0 0 0 0 0 0 0 0 1 0 0 0 0 0 1 1 1 0 1 1 0 0 1 0 0 1 0 0 1\n",
      " 1 0 0 0 0 1 0 0 1 0 0 0 0 0 0 0 1 1 1 0 0 1 0 0 1 0 0 1 0 1 1 0 1 0 1 0 1\n",
      " 0 1 1 0 0 0 0 1 1 0 1 0 1 0 0 0 0 1 1 0 1 0 1 0 0 0 0 0 1 0 0 0 0 1 0 0 1\n",
      " 1 1 0 0 1 0 0 1 0 0 0 1 0 0 1 0 0 0 0 0 0 0 0 0 1 0 0 0 0 0 0 0 1 0 0 0 1\n",
      " 0 0 0 1 1 0 0 0 0 0 0 0 1 0 0 0 0 1 0 0 0 1 0 0 0 1 0 0 0 1 0 0 0 0 1 1 0\n",
      " 0 0 0 0 0 1 0 0 0 0 0 0 0 0 0 0 0 1 0 0 0 1 1 1 1 0 0 1 1 0 0 0 0 0 0 0 0\n",
      " 0 0 0 0 0 1 1 0 0 0 0 0 0 0 1 0 0 0 0 0 0 0 1 0 1 1 0 0 0 1 0 1 0 1 0 1 0\n",
      " 1 0 0 1 0 0 1 0 0 0 0 1 1 0 1 0 0 0 0 1 1 0 1 0 0 0 1 1 0 0 0 0 0 0 0 0 0\n",
      " 0 1 0 0 0 0 1 0 0 1 0 0 0 1 0 0 0 1 1 1 0 0 0 0 0 0 1 0 0 0 1 0 1 1 1 1 0\n",
      " 1 1 0 0 0 0 0 0 0 1 1 0 1 0 0 1 0 1 0 0 0 0 0 1 0 1 0 1 0 1 1 0 0 0 0 1 1\n",
      " 0 0 0 1 0 1 1 0 0 1 0 0 1 1 0 0 1 0 0 1 0 0 0 0 0 0 0 1 1 1 0 0 0 0 0 0 1\n",
      " 1 0 0 1 0 0 1 0 1 1 1 0 0 1 1 1 0 1 0 1 0 1 0 0 0 0 1 0]\n"
     ]
    }
   ],
   "source": [
    "print(y)"
   ]
  },
  {
   "cell_type": "code",
   "execution_count": 8,
   "id": "8ac7b870",
   "metadata": {
    "execution": {
     "iopub.execute_input": "2022-09-20T05:41:31.475657Z",
     "iopub.status.busy": "2022-09-20T05:41:31.475251Z",
     "iopub.status.idle": "2022-09-20T05:41:32.652532Z",
     "shell.execute_reply": "2022-09-20T05:41:32.651245Z"
    },
    "papermill": {
     "duration": 1.186244,
     "end_time": "2022-09-20T05:41:32.655290",
     "exception": false,
     "start_time": "2022-09-20T05:41:31.469046",
     "status": "completed"
    },
    "tags": []
   },
   "outputs": [],
   "source": [
    "from sklearn.model_selection import train_test_split\n",
    "x_train,x_test,y_train,y_test=train_test_split(x,y,test_size=0.2,random_state=1)"
   ]
  },
  {
   "cell_type": "code",
   "execution_count": 9,
   "id": "b1d560b0",
   "metadata": {
    "execution": {
     "iopub.execute_input": "2022-09-20T05:41:32.669989Z",
     "iopub.status.busy": "2022-09-20T05:41:32.669475Z",
     "iopub.status.idle": "2022-09-20T05:41:32.681592Z",
     "shell.execute_reply": "2022-09-20T05:41:32.679656Z"
    },
    "papermill": {
     "duration": 0.023782,
     "end_time": "2022-09-20T05:41:32.684396",
     "exception": false,
     "start_time": "2022-09-20T05:41:32.660614",
     "status": "completed"
    },
    "tags": []
   },
   "outputs": [],
   "source": [
    "from sklearn.preprocessing import StandardScaler\n",
    "sc = StandardScaler()\n",
    "x_train[:,:]=sc.fit_transform(x_train[:,:])\n",
    "x_test[:,:]=sc.transform(x_test[:,:])"
   ]
  },
  {
   "cell_type": "code",
   "execution_count": 10,
   "id": "a1d9eb04",
   "metadata": {
    "execution": {
     "iopub.execute_input": "2022-09-20T05:41:32.696201Z",
     "iopub.status.busy": "2022-09-20T05:41:32.695714Z",
     "iopub.status.idle": "2022-09-20T05:41:32.704085Z",
     "shell.execute_reply": "2022-09-20T05:41:32.702967Z"
    },
    "papermill": {
     "duration": 0.019755,
     "end_time": "2022-09-20T05:41:32.709199",
     "exception": false,
     "start_time": "2022-09-20T05:41:32.689444",
     "status": "completed"
    },
    "tags": []
   },
   "outputs": [
    {
     "data": {
      "text/plain": [
       "12.409673645990857"
      ]
     },
     "execution_count": 10,
     "metadata": {},
     "output_type": "execute_result"
    }
   ],
   "source": [
    "import math\n",
    "math.sqrt(len(x_test))"
   ]
  },
  {
   "cell_type": "code",
   "execution_count": 11,
   "id": "0948afbd",
   "metadata": {
    "execution": {
     "iopub.execute_input": "2022-09-20T05:41:32.726049Z",
     "iopub.status.busy": "2022-09-20T05:41:32.725174Z",
     "iopub.status.idle": "2022-09-20T05:41:32.868872Z",
     "shell.execute_reply": "2022-09-20T05:41:32.867869Z"
    },
    "papermill": {
     "duration": 0.154284,
     "end_time": "2022-09-20T05:41:32.871191",
     "exception": false,
     "start_time": "2022-09-20T05:41:32.716907",
     "status": "completed"
    },
    "tags": []
   },
   "outputs": [
    {
     "data": {
      "text/plain": [
       "KNeighborsClassifier(metric='euclidean', n_neighbors=11)"
      ]
     },
     "execution_count": 11,
     "metadata": {},
     "output_type": "execute_result"
    }
   ],
   "source": [
    "from sklearn.neighbors import KNeighborsClassifier\n",
    "classifier=KNeighborsClassifier(n_neighbors=11,metric='euclidean')\n",
    "classifier.fit(x_train,y_train)"
   ]
  },
  {
   "cell_type": "code",
   "execution_count": 12,
   "id": "672af187",
   "metadata": {
    "execution": {
     "iopub.execute_input": "2022-09-20T05:41:32.883542Z",
     "iopub.status.busy": "2022-09-20T05:41:32.882776Z",
     "iopub.status.idle": "2022-09-20T05:41:32.894363Z",
     "shell.execute_reply": "2022-09-20T05:41:32.893438Z"
    },
    "papermill": {
     "duration": 0.020246,
     "end_time": "2022-09-20T05:41:32.896638",
     "exception": false,
     "start_time": "2022-09-20T05:41:32.876392",
     "status": "completed"
    },
    "tags": []
   },
   "outputs": [],
   "source": [
    "y_pred=classifier.predict(x_test)"
   ]
  },
  {
   "cell_type": "code",
   "execution_count": 13,
   "id": "50420ed4",
   "metadata": {
    "execution": {
     "iopub.execute_input": "2022-09-20T05:41:32.908793Z",
     "iopub.status.busy": "2022-09-20T05:41:32.908095Z",
     "iopub.status.idle": "2022-09-20T05:41:32.916274Z",
     "shell.execute_reply": "2022-09-20T05:41:32.915220Z"
    },
    "papermill": {
     "duration": 0.016815,
     "end_time": "2022-09-20T05:41:32.918688",
     "exception": false,
     "start_time": "2022-09-20T05:41:32.901873",
     "status": "completed"
    },
    "tags": []
   },
   "outputs": [
    {
     "name": "stdout",
     "output_type": "stream",
     "text": [
      "[[86 13]\n",
      " [22 33]]\n"
     ]
    }
   ],
   "source": [
    "from sklearn.metrics import confusion_matrix\n",
    "cm=confusion_matrix(y_test,y_pred)\n",
    "print(cm)\n"
   ]
  },
  {
   "cell_type": "code",
   "execution_count": 14,
   "id": "05719b7c",
   "metadata": {
    "execution": {
     "iopub.execute_input": "2022-09-20T05:41:32.930740Z",
     "iopub.status.busy": "2022-09-20T05:41:32.930317Z",
     "iopub.status.idle": "2022-09-20T05:41:32.938625Z",
     "shell.execute_reply": "2022-09-20T05:41:32.937002Z"
    },
    "papermill": {
     "duration": 0.017038,
     "end_time": "2022-09-20T05:41:32.941001",
     "exception": false,
     "start_time": "2022-09-20T05:41:32.923963",
     "status": "completed"
    },
    "tags": []
   },
   "outputs": [
    {
     "name": "stdout",
     "output_type": "stream",
     "text": [
      "0.6534653465346534\n"
     ]
    }
   ],
   "source": [
    "from sklearn.metrics import f1_score\n",
    "print(f1_score(y_test,y_pred))"
   ]
  },
  {
   "cell_type": "code",
   "execution_count": 15,
   "id": "4eff6611",
   "metadata": {
    "execution": {
     "iopub.execute_input": "2022-09-20T05:41:32.954666Z",
     "iopub.status.busy": "2022-09-20T05:41:32.953950Z",
     "iopub.status.idle": "2022-09-20T05:41:32.959936Z",
     "shell.execute_reply": "2022-09-20T05:41:32.958575Z"
    },
    "papermill": {
     "duration": 0.016697,
     "end_time": "2022-09-20T05:41:32.962980",
     "exception": false,
     "start_time": "2022-09-20T05:41:32.946283",
     "status": "completed"
    },
    "tags": []
   },
   "outputs": [
    {
     "name": "stdout",
     "output_type": "stream",
     "text": [
      "0.7727272727272727\n"
     ]
    }
   ],
   "source": [
    "from sklearn.metrics import accuracy_score\n",
    "print(accuracy_score(y_test,y_pred))"
   ]
  }
 ],
 "metadata": {
  "kernelspec": {
   "display_name": "Python 3",
   "language": "python",
   "name": "python3"
  },
  "language_info": {
   "codemirror_mode": {
    "name": "ipython",
    "version": 3
   },
   "file_extension": ".py",
   "mimetype": "text/x-python",
   "name": "python",
   "nbconvert_exporter": "python",
   "pygments_lexer": "ipython3",
   "version": "3.7.12"
  },
  "papermill": {
   "default_parameters": {},
   "duration": 11.783046,
   "end_time": "2022-09-20T05:41:33.689932",
   "environment_variables": {},
   "exception": null,
   "input_path": "__notebook__.ipynb",
   "output_path": "__notebook__.ipynb",
   "parameters": {},
   "start_time": "2022-09-20T05:41:21.906886",
   "version": "2.3.4"
  }
 },
 "nbformat": 4,
 "nbformat_minor": 5
}
